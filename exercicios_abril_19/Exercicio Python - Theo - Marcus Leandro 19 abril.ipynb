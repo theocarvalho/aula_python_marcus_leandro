{
 "cells": [
  {
   "cell_type": "markdown",
   "metadata": {},
   "source": [
    "# Exercício - Theo - Marcus Leandro\n",
    "\n",
    "### Objetivo\n",
    "- Resolver exercícios mencionados no link https://stonepgto.slack.com/archives/CHH394R4Z/p1555332079003900\n",
    "\n",
    "\n",
    "### Resumo comando das questões\n",
    "\n",
    "11. Reajuste de salário baseado em condição e apresentação descritiva da relação de nova e antiga informação\n",
    "\n",
    "12. Cálculo descritivo folha de pagamento. Variáveis como desconto e FGTS.\n",
    "\n",
    "13. Conversão número em dia da semana\n",
    "\n",
    "14. Interpretação e status de avaliação dado duas notas"
   ]
  },
  {
   "cell_type": "markdown",
   "metadata": {},
   "source": [
    "## Questão 11."
   ]
  },
  {
   "cell_type": "code",
   "execution_count": 2,
   "metadata": {},
   "outputs": [
    {
     "name": "stdout",
     "output_type": "stream",
     "text": [
      "Qual valor de salário você gostaria de saber informações sobre reajuste? R$1400\n"
     ]
    },
    {
     "data": {
      "text/html": [
       "<div>\n",
       "<style scoped>\n",
       "    .dataframe tbody tr th:only-of-type {\n",
       "        vertical-align: middle;\n",
       "    }\n",
       "\n",
       "    .dataframe tbody tr th {\n",
       "        vertical-align: top;\n",
       "    }\n",
       "\n",
       "    .dataframe thead th {\n",
       "        text-align: right;\n",
       "    }\n",
       "</style>\n",
       "<table border=\"1\" class=\"dataframe\">\n",
       "  <thead>\n",
       "    <tr style=\"text-align: right;\">\n",
       "      <th></th>\n",
       "      <th>salario_antes_reajuste</th>\n",
       "      <th>percentual_aumento</th>\n",
       "      <th>valor_aumento</th>\n",
       "      <th>novo_salario</th>\n",
       "    </tr>\n",
       "  </thead>\n",
       "  <tbody>\n",
       "    <tr>\n",
       "      <th>Colaborador</th>\n",
       "      <td>1400</td>\n",
       "      <td>10.0%</td>\n",
       "      <td>140.0</td>\n",
       "      <td>1540.0</td>\n",
       "    </tr>\n",
       "  </tbody>\n",
       "</table>\n",
       "</div>"
      ],
      "text/plain": [
       "             salario_antes_reajuste percentual_aumento  valor_aumento  \\\n",
       "Colaborador                    1400              10.0%          140.0   \n",
       "\n",
       "             novo_salario  \n",
       "Colaborador        1540.0  "
      ]
     },
     "execution_count": 2,
     "metadata": {},
     "output_type": "execute_result"
    }
   ],
   "source": [
    "11.\n",
    "\n",
    "# importando algumas bibliotecas que costumo usar\n",
    "import pandas as pd\n",
    "import numpy as np\n",
    "import pylab as pl\n",
    "import matplotlib.pyplot as plt\n",
    "\n",
    "#input usuário\n",
    "input_monthly_payment = int(input(\"Qual valor de salário você gostaria de saber informações sobre reajuste? R$\") )\n",
    "\n",
    "#inserção do valor salário\n",
    "monthly_payment = input_monthly_payment\n",
    "\n",
    "#condição de reajuste\n",
    "if monthly_payment <= 280:\n",
    "  new_monthly_payment = monthly_payment * 1.2\n",
    "elif monthly_payment < 700:\n",
    "  new_monthly_payment = monthly_payment * 1.15\n",
    "elif monthly_payment < 1500:\n",
    "  new_monthly_payment = monthly_payment * 1.1\n",
    "else:\n",
    "    new_monthly_payment = monthly_payment * 1.05\n",
    "\n",
    "#variacao_absoluta\n",
    "monthly_payment_delta = new_monthly_payment - monthly_payment\n",
    "\n",
    "#variacao percentual\n",
    "monthly_payment_percentage = (monthly_payment_delta/monthly_payment)\n",
    "\n",
    "#formatando valor. fonte: https://stackoverflow.com/questions/5306756/how-to-show-percentage-in-python\n",
    "formated_monthly_payment_percentage = '{:.1%}'.format(monthly_payment_percentage)\n",
    "\n",
    "#formatação da tabela de visualização\n",
    "d = {'salario_antes_reajuste': [monthly_payment], 'percentual_aumento': [formated_monthly_payment_percentage], 'valor_aumento': [monthly_payment_delta], 'novo_salario': [new_monthly_payment]}\n",
    "df = pd.DataFrame(data=d)\n",
    "df.rename(index={0:'Colaborador'}, inplace=True)\n",
    "\n",
    "#apresentando informação\n",
    "df"
   ]
  },
  {
   "cell_type": "markdown",
   "metadata": {},
   "source": [
    "## Questão 12."
   ]
  },
  {
   "cell_type": "code",
   "execution_count": 3,
   "metadata": {},
   "outputs": [
    {
     "name": "stdout",
     "output_type": "stream",
     "text": [
      "Qual o valor da sua hora? R$220\n",
      "Qual a quantidade de horas trabalhas no mês? 5\n"
     ]
    },
    {
     "data": {
      "text/html": [
       "<div>\n",
       "<style scoped>\n",
       "    .dataframe tbody tr th:only-of-type {\n",
       "        vertical-align: middle;\n",
       "    }\n",
       "\n",
       "    .dataframe tbody tr th {\n",
       "        vertical-align: top;\n",
       "    }\n",
       "\n",
       "    .dataframe thead th {\n",
       "        text-align: right;\n",
       "    }\n",
       "</style>\n",
       "<table border=\"1\" class=\"dataframe\">\n",
       "  <thead>\n",
       "    <tr style=\"text-align: right;\">\n",
       "      <th></th>\n",
       "      <th></th>\n",
       "    </tr>\n",
       "  </thead>\n",
       "  <tbody>\n",
       "    <tr>\n",
       "      <th>Salário Bruto: (5 * 220)</th>\n",
       "      <td>1100.0</td>\n",
       "    </tr>\n",
       "    <tr>\n",
       "      <th>(-)  IR (5%)</th>\n",
       "      <td>55.0</td>\n",
       "    </tr>\n",
       "    <tr>\n",
       "      <th>(-)  INSS (10%)</th>\n",
       "      <td>110.0</td>\n",
       "    </tr>\n",
       "    <tr>\n",
       "      <th>FGTS (11%)</th>\n",
       "      <td>121.0</td>\n",
       "    </tr>\n",
       "    <tr>\n",
       "      <th>Total de descontos</th>\n",
       "      <td>165.0</td>\n",
       "    </tr>\n",
       "    <tr>\n",
       "      <th>Salário Líquido</th>\n",
       "      <td>935.0</td>\n",
       "    </tr>\n",
       "  </tbody>\n",
       "</table>\n",
       "</div>"
      ],
      "text/plain": [
       "                                \n",
       "Salário Bruto: (5 * 220)  1100.0\n",
       "(-)  IR (5%)                55.0\n",
       "(-)  INSS (10%)            110.0\n",
       "FGTS (11%)                 121.0\n",
       "Total de descontos         165.0\n",
       "Salário Líquido            935.0"
      ]
     },
     "execution_count": 3,
     "metadata": {},
     "output_type": "execute_result"
    }
   ],
   "source": [
    "12.\n",
    "\n",
    "# importando algumas bibliotecas que costumo usar\n",
    "import pandas as pd\n",
    "import numpy as np\n",
    "import pylab as pl\n",
    "import matplotlib.pyplot as plt\n",
    "\n",
    "#input usuário\n",
    "input_money_per_hour_payment = int(input(\"Qual o valor da sua hora? R$\") )\n",
    "amount_hours = int(input(\"Qual a quantidade de horas trabalhas no mês? \"))\n",
    "\n",
    "#cálculo do salário dado quantidade de horas e valor por hora\n",
    "salary = input_money_per_hour_payment * amount_hours\n",
    "\n",
    "#condição de desconto do IR\n",
    "if salary <= 900:\n",
    "  ir_discount_salary = salary * 1.0\n",
    "elif salary <= 1500:\n",
    "  ir_discount_salary = salary * 0.05\n",
    "elif salary <= 2500:\n",
    "  ir_discount_salary = salary * 1.1\n",
    "else:\n",
    "    ir_discount_salary = salary * 0.2\n",
    "\n",
    "#condição de desconto INSS\n",
    "inss_discount_salary = salary * 0.1\n",
    "\n",
    "#contribuição forçada FGTS\n",
    "fgts_deduction = salary * 0.11\n",
    "\n",
    "# total de descontos\n",
    "total_discounts = ir_discount_salary + inss_discount_salary\n",
    "\n",
    "#salário líquido\n",
    "net_salary = salary - total_discounts\n",
    "\n",
    "# detalhe cálculo salário\n",
    "detailed_salary = \"Salário Bruto: ({} * {})\".format(amount_hours, input_money_per_hour_payment)\n",
    "\n",
    "#formatação da tabela de visualização\n",
    "d = {detailed_salary: [salary], '(-)  IR (5%)': [ir_discount_salary], '(-)  INSS (10%)': [inss_discount_salary],\n",
    "     'FGTS (11%)': [fgts_deduction], 'Total de descontos': [total_discounts], 'Salário Líquido': [net_salary]}\n",
    "df = pd.DataFrame(data=d)\n",
    "df.rename(index={0:''}, inplace=True)\n",
    "\n",
    "#apresentando informação. Vou realizar transpose apenas para ficar mais semelhante ao exemplo,\n",
    "#apesar de preferir as variáveis nas colunas\n",
    "df.transpose()"
   ]
  },
  {
   "cell_type": "markdown",
   "metadata": {},
   "source": [
    "## Questão 13."
   ]
  },
  {
   "cell_type": "code",
   "execution_count": 5,
   "metadata": {},
   "outputs": [
    {
     "name": "stdout",
     "output_type": "stream",
     "text": [
      "Qual o numero da semana? -1\n",
      "valor inválido\n"
     ]
    }
   ],
   "source": [
    "# importando algumas bibliotecas que costumo usar\n",
    "import pandas as pd\n",
    "import numpy as np\n",
    "import pylab as pl\n",
    "import matplotlib.pyplot as plt\n",
    "\n",
    "numero_semana = int(input(\"Qual o numero da semana? \"))\n",
    "\n",
    "if numero_semana == 1:\n",
    "    dia_semana = \"Domingo\"\n",
    "elif numero_semana == 2:\n",
    "    dia_semana = \"Segunda\"\n",
    "elif numero_semana == 3:\n",
    "    dia_semana = \"Terça\"\n",
    "elif numero_semana == 4:\n",
    "    dia_semana = \"Quarta\"\n",
    "elif numero_semana == 5:\n",
    "    dia_semana = \"Quinta\"\n",
    "elif numero_semana == 6:\n",
    "    dia_semana = \"Sexta\"\n",
    "elif numero_semana == 7:\n",
    "    dia_semana = \"Sabado\"\n",
    "else:\n",
    "    dia_semana = \"valor inválido\"\n",
    "\n",
    "print(dia_semana)"
   ]
  },
  {
   "cell_type": "markdown",
   "metadata": {},
   "source": [
    "## Questão 14."
   ]
  },
  {
   "cell_type": "code",
   "execution_count": 8,
   "metadata": {},
   "outputs": [
    {
     "name": "stdout",
     "output_type": "stream",
     "text": [
      "Qual foi sua primeira nota parcial do semestre? 5.3939\n",
      "Qual foi sua segunda nota parcial do semestre? 9.8485732\n",
      "Qual o seu nome? Theo\n"
     ]
    },
    {
     "data": {
      "text/html": [
       "<div>\n",
       "<style scoped>\n",
       "    .dataframe tbody tr th:only-of-type {\n",
       "        vertical-align: middle;\n",
       "    }\n",
       "\n",
       "    .dataframe tbody tr th {\n",
       "        vertical-align: top;\n",
       "    }\n",
       "\n",
       "    .dataframe thead th {\n",
       "        text-align: right;\n",
       "    }\n",
       "</style>\n",
       "<table border=\"1\" class=\"dataframe\">\n",
       "  <thead>\n",
       "    <tr style=\"text-align: right;\">\n",
       "      <th></th>\n",
       "      <th>Theo</th>\n",
       "    </tr>\n",
       "  </thead>\n",
       "  <tbody>\n",
       "    <tr>\n",
       "      <th>Nota_01</th>\n",
       "      <td>5.39</td>\n",
       "    </tr>\n",
       "    <tr>\n",
       "      <th>Nota_02</th>\n",
       "      <td>9.85</td>\n",
       "    </tr>\n",
       "    <tr>\n",
       "      <th>Média</th>\n",
       "      <td>7.62</td>\n",
       "    </tr>\n",
       "    <tr>\n",
       "      <th>Conceito</th>\n",
       "      <td>B</td>\n",
       "    </tr>\n",
       "    <tr>\n",
       "      <th>Status_final</th>\n",
       "      <td>APROVADO</td>\n",
       "    </tr>\n",
       "  </tbody>\n",
       "</table>\n",
       "</div>"
      ],
      "text/plain": [
       "                  Theo\n",
       "Nota_01           5.39\n",
       "Nota_02           9.85\n",
       "Média             7.62\n",
       "Conceito             B\n",
       "Status_final  APROVADO"
      ]
     },
     "execution_count": 8,
     "metadata": {},
     "output_type": "execute_result"
    }
   ],
   "source": [
    "# importando algumas bibliotecas que costumo usar\n",
    "import pandas as pd\n",
    "import numpy as np\n",
    "import pylab as pl\n",
    "import matplotlib.pyplot as plt\n",
    "\n",
    "number_grade_1 = round(float(input(\"Qual foi sua primeira nota parcial do semestre? \")),2)\n",
    "number_grade_2 = round(float(input(\"Qual foi sua segunda nota parcial do semestre? \")),2)\n",
    "name_just_for_fun = input(\"Qual o seu nome? \")\n",
    "\n",
    "average = round((number_grade_1 + number_grade_2) / 2,3)\n",
    "\n",
    "if average <= 4:\n",
    "    letter_grade = \"E\"\n",
    "elif average <= 6:\n",
    "    letter_grade = \"D\"\n",
    "elif average <= 7.5:\n",
    "    letter_grade = \"C\"\n",
    "elif average <= 9:\n",
    "    letter_grade = \"B\"\n",
    "else:\n",
    "    letter_grade = \"A\"\n",
    "    \n",
    "if letter_grade == \"E\":\n",
    "    final_status = \"REPROVADO\"\n",
    "elif letter_grade == \"D\":\n",
    "    final_status = \"REPROVADO\"\n",
    "else:\n",
    "    final_status = \"APROVADO\"\n",
    "\n",
    "d = {\"Nota_01\": [number_grade_1], 'Nota_02': [number_grade_2], 'Média': [average],\n",
    "     'Conceito': [letter_grade], 'Status_final': [final_status]}\n",
    "df = pd.DataFrame(data=d)\n",
    "df.rename(index={0:name_just_for_fun}, inplace=True)\n",
    "\n",
    "df.transpose()"
   ]
  },
  {
   "cell_type": "markdown",
   "metadata": {},
   "source": [
    "## Comentários das questões\n",
    "11. Um dos dois exercício mais legais. Erro de português 'contraram' ao invés de 'contrataram'\n",
    "12. Talvez o exercício mais interessante. Comando da questão está super confuso nas primeiras 04 linhas. Achei mal escrito nesse primeiro parágrafo.\n",
    "13. Achei chato. Fiquei curioso para saber outras maneiras de se realizar isso, de forma mais sofisticada, com menor quantidade de 'ifs'\n",
    "14. Divertidinha. Mas bem parecido com as primeiras 02 questões."
   ]
  }
 ],
 "metadata": {
  "kernelspec": {
   "display_name": "Python 3",
   "language": "python",
   "name": "python3"
  },
  "language_info": {
   "codemirror_mode": {
    "name": "ipython",
    "version": 3
   },
   "file_extension": ".py",
   "mimetype": "text/x-python",
   "name": "python",
   "nbconvert_exporter": "python",
   "pygments_lexer": "ipython3",
   "version": "3.6.5"
  }
 },
 "nbformat": 4,
 "nbformat_minor": 2
}
